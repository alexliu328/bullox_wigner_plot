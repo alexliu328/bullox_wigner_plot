{
 "cells": [
  {
   "cell_type": "code",
   "execution_count": 5,
   "metadata": {},
   "outputs": [],
   "source": [
    "import scipy as sp\n",
    "Amp = 1\n",
    "betap = -100\n",
    "tau0 = 4.66\n",
    "gamma = 1/tau0\n",
    "beta = (betap*gamma**4)/(1+betap**2 * gamma **4)\n",
    "omega_s = 3.24\n"
   ]
  },
  {
   "cell_type": "code",
   "execution_count": 8,
   "metadata": {},
   "outputs": [],
   "source": [
    "def pulse_s(t):\n",
    "    import scipy as sp\n",
    "    Amp = 1\n",
    "    betap = -100\n",
    "    tau0 = 4.66\n",
    "    gamma = 1/tau0\n",
    "    beta = (betap*gamma**4)/(1+betap**2 * gamma **4)\n",
    "    omega_s = 3.24\n",
    "    Tau = tau0**2*(1+betap**2 * gamma**4)\n",
    "    shape = Amp*sp.exp(-1*(t**2)/Tau)\n",
    "    return shape*sp.cos(omega_s*t + 0.5 * beta*t**2)"
   ]
  },
  {
   "cell_type": "code",
   "execution_count": 14,
   "metadata": {},
   "outputs": [
    {
     "data": {
      "text/plain": [
       "-0.0022914389263835153"
      ]
     },
     "execution_count": 14,
     "metadata": {},
     "output_type": "execute_result"
    }
   ],
   "source": [
    "pulse_s(-50)"
   ]
  },
  {
   "cell_type": "code",
   "execution_count": null,
   "metadata": {},
   "outputs": [],
   "source": []
  }
 ],
 "metadata": {
  "kernelspec": {
   "display_name": "Python 3",
   "language": "python",
   "name": "python3"
  },
  "language_info": {
   "codemirror_mode": {
    "name": "ipython",
    "version": 3
   },
   "file_extension": ".py",
   "mimetype": "text/x-python",
   "name": "python",
   "nbconvert_exporter": "python",
   "pygments_lexer": "ipython3",
   "version": "3.6.3"
  }
 },
 "nbformat": 4,
 "nbformat_minor": 2
}
